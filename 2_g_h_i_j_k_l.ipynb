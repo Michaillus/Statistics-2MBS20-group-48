{
 "cells": [
  {
   "cell_type": "markdown",
   "id": "47be847e",
   "metadata": {},
   "source": [
    "## Install dependencies"
   ]
  },
  {
   "cell_type": "code",
   "execution_count": null,
   "id": "e45983be",
   "metadata": {},
   "outputs": [],
   "source": [
    "!pip install pandas matplotlib seaborn scipy statsmodels"
   ]
  },
  {
   "cell_type": "markdown",
   "id": "e9d3893a",
   "metadata": {},
   "source": [
    "## Load data"
   ]
  },
  {
   "cell_type": "code",
   "execution_count": 38,
   "id": "cceb20fa",
   "metadata": {},
   "outputs": [
    {
     "data": {
      "text/html": [
       "<div>\n",
       "<style scoped>\n",
       "    .dataframe tbody tr th:only-of-type {\n",
       "        vertical-align: middle;\n",
       "    }\n",
       "\n",
       "    .dataframe tbody tr th {\n",
       "        vertical-align: top;\n",
       "    }\n",
       "\n",
       "    .dataframe thead th {\n",
       "        text-align: right;\n",
       "    }\n",
       "</style>\n",
       "<table border=\"1\" class=\"dataframe\">\n",
       "  <thead>\n",
       "    <tr style=\"text-align: right;\">\n",
       "      <th></th>\n",
       "      <th>Date</th>\n",
       "      <th>Open</th>\n",
       "      <th>High</th>\n",
       "      <th>Low</th>\n",
       "      <th>Close</th>\n",
       "      <th>Volume</th>\n",
       "      <th>Change</th>\n",
       "      <th>Return</th>\n",
       "    </tr>\n",
       "  </thead>\n",
       "  <tbody>\n",
       "    <tr>\n",
       "      <th>0</th>\n",
       "      <td>1995-01-02</td>\n",
       "      <td>188.22</td>\n",
       "      <td>189.41</td>\n",
       "      <td>187.52</td>\n",
       "      <td>189.31</td>\n",
       "      <td>0</td>\n",
       "      <td>0.650000</td>\n",
       "      <td>NaN</td>\n",
       "    </tr>\n",
       "    <tr>\n",
       "      <th>1</th>\n",
       "      <td>1995-01-03</td>\n",
       "      <td>189.08</td>\n",
       "      <td>189.80</td>\n",
       "      <td>188.85</td>\n",
       "      <td>189.15</td>\n",
       "      <td>0</td>\n",
       "      <td>-0.084517</td>\n",
       "      <td>-0.000845</td>\n",
       "    </tr>\n",
       "    <tr>\n",
       "      <th>2</th>\n",
       "      <td>1995-01-04</td>\n",
       "      <td>189.76</td>\n",
       "      <td>190.15</td>\n",
       "      <td>188.90</td>\n",
       "      <td>189.40</td>\n",
       "      <td>0</td>\n",
       "      <td>0.132170</td>\n",
       "      <td>0.001322</td>\n",
       "    </tr>\n",
       "    <tr>\n",
       "      <th>3</th>\n",
       "      <td>1995-01-05</td>\n",
       "      <td>189.30</td>\n",
       "      <td>189.76</td>\n",
       "      <td>187.94</td>\n",
       "      <td>188.17</td>\n",
       "      <td>0</td>\n",
       "      <td>-0.649419</td>\n",
       "      <td>-0.006494</td>\n",
       "    </tr>\n",
       "    <tr>\n",
       "      <th>4</th>\n",
       "      <td>1995-01-06</td>\n",
       "      <td>188.16</td>\n",
       "      <td>188.46</td>\n",
       "      <td>187.53</td>\n",
       "      <td>188.40</td>\n",
       "      <td>0</td>\n",
       "      <td>0.122230</td>\n",
       "      <td>0.001222</td>\n",
       "    </tr>\n",
       "    <tr>\n",
       "      <th>...</th>\n",
       "      <td>...</td>\n",
       "      <td>...</td>\n",
       "      <td>...</td>\n",
       "      <td>...</td>\n",
       "      <td>...</td>\n",
       "      <td>...</td>\n",
       "      <td>...</td>\n",
       "      <td>...</td>\n",
       "    </tr>\n",
       "    <tr>\n",
       "      <th>7655</th>\n",
       "      <td>2024-12-23</td>\n",
       "      <td>870.21</td>\n",
       "      <td>874.25</td>\n",
       "      <td>867.05</td>\n",
       "      <td>872.22</td>\n",
       "      <td>30458310</td>\n",
       "      <td>-0.367815</td>\n",
       "      <td>-0.003678</td>\n",
       "    </tr>\n",
       "    <tr>\n",
       "      <th>7656</th>\n",
       "      <td>2024-12-24</td>\n",
       "      <td>876.15</td>\n",
       "      <td>878.34</td>\n",
       "      <td>875.83</td>\n",
       "      <td>876.26</td>\n",
       "      <td>12311085</td>\n",
       "      <td>0.463186</td>\n",
       "      <td>0.004632</td>\n",
       "    </tr>\n",
       "    <tr>\n",
       "      <th>7657</th>\n",
       "      <td>2024-12-27</td>\n",
       "      <td>874.97</td>\n",
       "      <td>880.84</td>\n",
       "      <td>873.67</td>\n",
       "      <td>879.70</td>\n",
       "      <td>36976475</td>\n",
       "      <td>0.392578</td>\n",
       "      <td>0.003926</td>\n",
       "    </tr>\n",
       "    <tr>\n",
       "      <th>7658</th>\n",
       "      <td>2024-12-30</td>\n",
       "      <td>876.95</td>\n",
       "      <td>878.58</td>\n",
       "      <td>869.76</td>\n",
       "      <td>871.80</td>\n",
       "      <td>29741477</td>\n",
       "      <td>-0.898033</td>\n",
       "      <td>-0.008980</td>\n",
       "    </tr>\n",
       "    <tr>\n",
       "      <th>7659</th>\n",
       "      <td>2024-12-31</td>\n",
       "      <td>870.67</td>\n",
       "      <td>879.13</td>\n",
       "      <td>870.60</td>\n",
       "      <td>878.63</td>\n",
       "      <td>16230407</td>\n",
       "      <td>0.783437</td>\n",
       "      <td>0.007834</td>\n",
       "    </tr>\n",
       "  </tbody>\n",
       "</table>\n",
       "<p>7660 rows × 8 columns</p>\n",
       "</div>"
      ],
      "text/plain": [
       "           Date    Open    High     Low   Close    Volume    Change    Return\n",
       "0    1995-01-02  188.22  189.41  187.52  189.31         0  0.650000       NaN\n",
       "1    1995-01-03  189.08  189.80  188.85  189.15         0 -0.084517 -0.000845\n",
       "2    1995-01-04  189.76  190.15  188.90  189.40         0  0.132170  0.001322\n",
       "3    1995-01-05  189.30  189.76  187.94  188.17         0 -0.649419 -0.006494\n",
       "4    1995-01-06  188.16  188.46  187.53  188.40         0  0.122230  0.001222\n",
       "...         ...     ...     ...     ...     ...       ...       ...       ...\n",
       "7655 2024-12-23  870.21  874.25  867.05  872.22  30458310 -0.367815 -0.003678\n",
       "7656 2024-12-24  876.15  878.34  875.83  876.26  12311085  0.463186  0.004632\n",
       "7657 2024-12-27  874.97  880.84  873.67  879.70  36976475  0.392578  0.003926\n",
       "7658 2024-12-30  876.95  878.58  869.76  871.80  29741477 -0.898033 -0.008980\n",
       "7659 2024-12-31  870.67  879.13  870.60  878.63  16230407  0.783437  0.007834\n",
       "\n",
       "[7660 rows x 8 columns]"
      ]
     },
     "execution_count": 38,
     "metadata": {},
     "output_type": "execute_result"
    }
   ],
   "source": [
    "import pandas as pd\n",
    "\n",
    "data = pd.read_csv(\"./AEX_1995_2024.csv\", parse_dates=['Date'])\n",
    "data = data.sort_values('Date')\n",
    "data['Return'] = data['Close'].pct_change()\n",
    "data"
   ]
  },
  {
   "cell_type": "code",
   "execution_count": 31,
   "id": "36baf4c3",
   "metadata": {},
   "outputs": [],
   "source": [
    "# Extract daily returns for 2005 and 2020\n",
    "returns_2005 = data[data['Date'].dt.year == 2005]['Return'].dropna()\n",
    "returns_2020 = data[data['Date'].dt.year == 2020]['Return'].dropna()"
   ]
  },
  {
   "cell_type": "code",
   "execution_count": 37,
   "id": "ffc9aee1",
   "metadata": {},
   "outputs": [
    {
     "data": {
      "text/plain": [
       "(257,)"
      ]
     },
     "execution_count": 37,
     "metadata": {},
     "output_type": "execute_result"
    }
   ],
   "source": [
    "returns_2005.shape"
   ]
  },
  {
   "cell_type": "markdown",
   "id": "8182377b",
   "metadata": {},
   "source": [
    "## 2g"
   ]
  },
  {
   "cell_type": "code",
   "execution_count": null,
   "id": "25e2f6fd",
   "metadata": {},
   "outputs": [],
   "source": [
    "import matplotlib.pyplot as plt\n",
    "import seaborn as sns\n",
    "import scipy.stats as stats\n",
    "\n",
    "# Histogram + KDE\n",
    "plt.figure(figsize=(12,5))\n",
    "sns.histplot(returns_2005, kde=True, bins=40, color='blue', label='2005', stat='density')\n",
    "sns.histplot(returns_2020, kde=True, bins=40, color='red', label='2020', stat='density', alpha=0.5)\n",
    "plt.legend()\n",
    "plt.title(\"AEX Daily Returns: 2005 vs 2020\")\n",
    "plt.savefig(\"returns_histogram_kde.png\", dpi=300, bbox_inches='tight')\n",
    "plt.close()\n",
    "\n",
    "# QQ plots\n",
    "plt.figure(figsize=(12,5))\n",
    "plt.subplot(1,2,1)\n",
    "stats.probplot(returns_2005, dist=\"norm\", plot=plt)\n",
    "plt.title(\"QQ plot 2005\")\n",
    "plt.subplot(1,2,2)\n",
    "stats.probplot(returns_2020, dist=\"norm\", plot=plt)\n",
    "plt.title(\"QQ plot 2020\")\n",
    "plt.savefig(\"qq_plots.png\", dpi=300, bbox_inches='tight')\n",
    "plt.close()\n",
    "\n",
    "# Boxplots\n",
    "df = pd.DataFrame({'2005': returns_2005, '2020': returns_2020})\n",
    "sns.boxplot(data=df, palette=['blue','red'])\n",
    "plt.title(\"Boxplot of Daily Returns\")\n",
    "plt.show()\n"
   ]
  },
  {
   "cell_type": "markdown",
   "id": "068f1eaa",
   "metadata": {},
   "source": [
    "## 2i"
   ]
  },
  {
   "cell_type": "code",
   "execution_count": 56,
   "id": "b9bb7920",
   "metadata": {},
   "outputs": [
    {
     "name": "stdout",
     "output_type": "stream",
     "text": [
      "2005 t-dist params (df, loc, scale): (np.float64(7.191261640090092), np.float64(0.0009998928617651558), np.float64(0.005430937819900299))\n",
      "2020 t-dist params (df, loc, scale): (np.float64(2.861398629214051), np.float64(0.0013893587640328854), np.float64(0.010678644084791956))\n"
     ]
    }
   ],
   "source": [
    "import numpy as np\n",
    "import matplotlib.pyplot as plt\n",
    "from scipy.stats import t\n",
    "\n",
    "# Fit a t-distribution to 2005 and 2020\n",
    "params_2005 = t.fit(returns_2005)\n",
    "params_2020 = t.fit(returns_2020)\n",
    "\n",
    "print(\"2005 t-dist params (df, loc, scale):\", params_2005)\n",
    "print(\"2020 t-dist params (df, loc, scale):\", params_2020)\n",
    "\n",
    "# Create subplots\n",
    "fig, axes = plt.subplots(1, 2, figsize=(12, 5), sharey=True)\n",
    "\n",
    "# Define x range\n",
    "x_2005 = np.linspace(returns_2005.min(), returns_2005.max(), 1000)\n",
    "x_2020 = np.linspace(returns_2020.min(), returns_2020.max(), 1000)\n",
    "\n",
    "# 2005 subplot\n",
    "axes[0].hist(returns_2005, bins=35, density=True, alpha=0.5, color='blue', label='2005')\n",
    "axes[0].plot(x_2005, t.pdf(x_2005, *params_2005), 'b-', lw=2)\n",
    "axes[0].set_title(\"2005 Returns\")\n",
    "axes[0].legend()\n",
    "\n",
    "# 2020 subplot\n",
    "axes[1].hist(returns_2020, bins=50, density=True, alpha=0.5, color='red', label='2020')\n",
    "axes[1].plot(x_2020, t.pdf(x_2020, *params_2020), 'r-', lw=2)\n",
    "axes[1].set_title(\"2020 Returns\")\n",
    "axes[1].legend()\n",
    "\n",
    "# Overall figure adjustments\n",
    "plt.suptitle(\"Histogram with t-distribution Fit\")\n",
    "plt.savefig(\"t_distribution_fit_subplots.png\", dpi=300, bbox_inches='tight')\n",
    "plt.close()"
   ]
  },
  {
   "cell_type": "markdown",
   "id": "36e5688d",
   "metadata": {},
   "source": [
    "## 2j"
   ]
  },
  {
   "cell_type": "code",
   "execution_count": 58,
   "id": "f1b3232b",
   "metadata": {},
   "outputs": [
    {
     "name": "stdout",
     "output_type": "stream",
     "text": [
      "Parametric 1% VaR 2005: 0.015161856395033485\n",
      "Parametric 1% VaR 2020: 0.0490281168179218\n"
     ]
    }
   ],
   "source": [
    "p = 0.01\n",
    "\n",
    "VaR_2005 = -t.ppf(p, *params_2005)\n",
    "VaR_2020 = -t.ppf(p, *params_2020)\n",
    "\n",
    "print(\"Parametric 1% VaR 2005:\", VaR_2005)\n",
    "print(\"Parametric 1% VaR 2020:\", VaR_2020)\n",
    "\n"
   ]
  },
  {
   "cell_type": "markdown",
   "id": "c935cc6a",
   "metadata": {},
   "source": [
    "## 2k"
   ]
  },
  {
   "cell_type": "code",
   "execution_count": 35,
   "id": "ec7ca72d",
   "metadata": {},
   "outputs": [
    {
     "name": "stdout",
     "output_type": "stream",
     "text": [
      "Non-parametric 1% VaR 2005: 0.01625957251240904\n",
      "Non-parametric 1% VaR 2020: 0.04270632365428852\n"
     ]
    }
   ],
   "source": [
    "VaR_2005_np = -np.quantile(returns_2005, p)\n",
    "VaR_2020_np = -np.quantile(returns_2020, p)\n",
    "\n",
    "print(\"Non-parametric 1% VaR 2005:\", VaR_2005_np)\n",
    "print(\"Non-parametric 1% VaR 2020:\", VaR_2020_np)\n"
   ]
  },
  {
   "cell_type": "markdown",
   "id": "ab0d26ae",
   "metadata": {},
   "source": [
    "## 2l"
   ]
  },
  {
   "cell_type": "code",
   "execution_count": null,
   "id": "dea0b833",
   "metadata": {},
   "outputs": [
    {
     "name": "stdout",
     "output_type": "stream",
     "text": [
      "2005 mean and 95% CI: (np.float64(0.0009038565513530295), (np.float64(0.0001213979207636696), np.float64(0.0016863151819423894)))\n",
      "2020 mean and 95% CI: (np.float64(0.0002862756290058166), (np.float64(-0.0018991398256047488), np.float64(0.002471691083616382)))\n"
     ]
    }
   ],
   "source": [
    "from scipy.stats import sem, t as t_dist\n",
    "\n",
    "def mean_ci(data, alpha=0.05):\n",
    "    n = len(data)\n",
    "    m = np.mean(data)\n",
    "    s = sem(data)\n",
    "    h = s * t_dist.ppf(1 - alpha/2, n-1)\n",
    "    return m, (m-h, m+h)\n",
    "\n",
    "ci_2005 = mean_ci(returns_2005)\n",
    "ci_2020 = mean_ci(returns_2020)\n",
    "\n",
    "print(\"2005 mean and 95% CI:\", ci_2005)\n",
    "print(\"2020 mean and 95% CI:\", ci_2020)\n"
   ]
  }
 ],
 "metadata": {
  "kernelspec": {
   "display_name": ".venv",
   "language": "python",
   "name": "python3"
  },
  "language_info": {
   "codemirror_mode": {
    "name": "ipython",
    "version": 3
   },
   "file_extension": ".py",
   "mimetype": "text/x-python",
   "name": "python",
   "nbconvert_exporter": "python",
   "pygments_lexer": "ipython3",
   "version": "3.9.6"
  }
 },
 "nbformat": 4,
 "nbformat_minor": 5
}
